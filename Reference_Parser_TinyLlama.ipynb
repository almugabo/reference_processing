{
 "cells": [
  {
   "cell_type": "markdown",
   "id": "790ba590",
   "metadata": {},
   "source": [
    "## finetune an LLM for Reference Parsing \n",
    "\n",
    "\n",
    "- for this proof of concept we use only 1000 examples (800 for training) and train it for only 3 epochs \n",
    "\n",
    "- To do: \n",
    "\n",
    "     - a better training dataset \n",
    "     - come up with a better way to check for possible halucinations \n",
    " \n",
    " \n"
   ]
  },
  {
   "cell_type": "markdown",
   "id": "46d17454",
   "metadata": {},
   "source": [
    "## 1. Prepare dataset "
   ]
  },
  {
   "cell_type": "code",
   "execution_count": 1,
   "id": "ae5846a2",
   "metadata": {},
   "outputs": [],
   "source": [
    "import pandas as pd \n",
    "from sklearn.model_selection import train_test_split\n",
    "\n",
    "from datasets import Dataset\n",
    "\n",
    "import textwrap\n",
    "\n",
    "import random \n"
   ]
  },
  {
   "cell_type": "code",
   "execution_count": null,
   "id": "d9629538",
   "metadata": {},
   "outputs": [],
   "source": []
  },
  {
   "cell_type": "code",
   "execution_count": 2,
   "id": "077eb3ba",
   "metadata": {},
   "outputs": [
    {
     "name": "stdout",
     "output_type": "stream",
     "text": [
      "dataset: 10000\n",
      "sample: 1000\n"
     ]
    },
    {
     "data": {
      "text/html": [
       "<div>\n",
       "<style scoped>\n",
       "    .dataframe tbody tr th:only-of-type {\n",
       "        vertical-align: middle;\n",
       "    }\n",
       "\n",
       "    .dataframe tbody tr th {\n",
       "        vertical-align: top;\n",
       "    }\n",
       "\n",
       "    .dataframe thead th {\n",
       "        text-align: right;\n",
       "    }\n",
       "</style>\n",
       "<table border=\"1\" class=\"dataframe\">\n",
       "  <thead>\n",
       "    <tr style=\"text-align: right;\">\n",
       "      <th></th>\n",
       "      <th>record_nr</th>\n",
       "      <th>doi</th>\n",
       "      <th>ref_type</th>\n",
       "      <th>ref_style</th>\n",
       "      <th>ref_string</th>\n",
       "      <th>ref_annotated</th>\n",
       "    </tr>\n",
       "  </thead>\n",
       "  <tbody>\n",
       "    <tr>\n",
       "      <th>9522</th>\n",
       "      <td>9522</td>\n",
       "      <td>10.1007/978-3-642-23623-5_36</td>\n",
       "      <td>chapter</td>\n",
       "      <td>acta-anaesthesiologica-scandinavica</td>\n",
       "      <td>Parthasarathy V, Hatt C, Stankovic Z, Raval A,...</td>\n",
       "      <td>&lt;author&gt;Parthasarathy V, Hatt C, Stankovic Z, ...</td>\n",
       "    </tr>\n",
       "    <tr>\n",
       "      <th>1082</th>\n",
       "      <td>1082</td>\n",
       "      <td>10.1049/IP-VIS:20050217</td>\n",
       "      <td>article-journal</td>\n",
       "      <td>ambio</td>\n",
       "      <td>Li, M.-B., G.-B. Huang, P. Saratchandran, and ...</td>\n",
       "      <td>&lt;author&gt;Li, M.-B., G.-B. Huang, P. Saratchandr...</td>\n",
       "    </tr>\n",
       "    <tr>\n",
       "      <th>6107</th>\n",
       "      <td>6107</td>\n",
       "      <td>10.1016/S0959-8049(11)71809-3</td>\n",
       "      <td>article-journal</td>\n",
       "      <td>acta-universitatis-agriculturae-et-silvicultur...</td>\n",
       "      <td>De luliis, F., Russo, I., Di Trapani, M. C., C...</td>\n",
       "      <td>&lt;author&gt;De luliis, F., Russo, I., Di Trapani, ...</td>\n",
       "    </tr>\n",
       "    <tr>\n",
       "      <th>6466</th>\n",
       "      <td>6466</td>\n",
       "      <td>10.1117/12.367560</td>\n",
       "      <td>paper-conference</td>\n",
       "      <td>administrative-science-quarterly</td>\n",
       "      <td>Dong, M., X. Chen, and H. Deng1999 “&lt;title&amp;rt;...</td>\n",
       "      <td>&lt;author&gt;Dong, M., X. Chen, and H. Deng&lt;/author...</td>\n",
       "    </tr>\n",
       "    <tr>\n",
       "      <th>1946</th>\n",
       "      <td>1946</td>\n",
       "      <td>10.1021/BI200600K</td>\n",
       "      <td>article-journal</td>\n",
       "      <td>acta-scientiae-veterinariae</td>\n",
       "      <td>Kallio, P., P. Patrikainen, J.-P. Suomela, P. ...</td>\n",
       "      <td>&lt;author&gt;Kallio, P., P. Patrikainen, J.-P. Suom...</td>\n",
       "    </tr>\n",
       "  </tbody>\n",
       "</table>\n",
       "</div>"
      ],
      "text/plain": [
       "      record_nr                            doi          ref_type  \\\n",
       "9522       9522   10.1007/978-3-642-23623-5_36           chapter   \n",
       "1082       1082        10.1049/IP-VIS:20050217   article-journal   \n",
       "6107       6107  10.1016/S0959-8049(11)71809-3   article-journal   \n",
       "6466       6466              10.1117/12.367560  paper-conference   \n",
       "1946       1946              10.1021/BI200600K   article-journal   \n",
       "\n",
       "                                              ref_style  \\\n",
       "9522                acta-anaesthesiologica-scandinavica   \n",
       "1082                                              ambio   \n",
       "6107  acta-universitatis-agriculturae-et-silvicultur...   \n",
       "6466                   administrative-science-quarterly   \n",
       "1946                        acta-scientiae-veterinariae   \n",
       "\n",
       "                                             ref_string  \\\n",
       "9522  Parthasarathy V, Hatt C, Stankovic Z, Raval A,...   \n",
       "1082  Li, M.-B., G.-B. Huang, P. Saratchandran, and ...   \n",
       "6107  De luliis, F., Russo, I., Di Trapani, M. C., C...   \n",
       "6466  Dong, M., X. Chen, and H. Deng1999 “<title&rt;...   \n",
       "1946  Kallio, P., P. Patrikainen, J.-P. Suomela, P. ...   \n",
       "\n",
       "                                          ref_annotated  \n",
       "9522  <author>Parthasarathy V, Hatt C, Stankovic Z, ...  \n",
       "1082  <author>Li, M.-B., G.-B. Huang, P. Saratchandr...  \n",
       "6107  <author>De luliis, F., Russo, I., Di Trapani, ...  \n",
       "6466  <author>Dong, M., X. Chen, and H. Deng</author...  \n",
       "1946  <author>Kallio, P., P. Patrikainen, J.-P. Suom...  "
      ]
     },
     "execution_count": 2,
     "metadata": {},
     "output_type": "execute_result"
    }
   ],
   "source": [
    "## import dataset \n",
    "\n",
    "xfile = './dataset/reference_parsing.zip'\n",
    "\n",
    "\n",
    "\n",
    "# for testing \n",
    "t0 = pd.read_csv(xfile, sep = '\\t') # , nrows=5)\n",
    "t1 = t0.sample(n = 1000, random_state = 632) \n",
    "\n",
    "\n",
    "print('dataset:', len(t0))\n",
    "\n",
    "print('sample:', len(t1))\n",
    "\n",
    "\n",
    "t1.head()"
   ]
  },
  {
   "cell_type": "code",
   "execution_count": null,
   "id": "a720f47a",
   "metadata": {},
   "outputs": [],
   "source": []
  },
  {
   "cell_type": "code",
   "execution_count": null,
   "id": "0038b0e0",
   "metadata": {},
   "outputs": [],
   "source": []
  },
  {
   "cell_type": "code",
   "execution_count": 8,
   "id": "90cbf832",
   "metadata": {},
   "outputs": [
    {
     "name": "stdout",
     "output_type": "stream",
     "text": [
      "training dataset: 800\n",
      "validation: 160\n",
      "test: 40\n"
     ]
    }
   ],
   "source": [
    "## create train, test and validation dataset \n",
    "\n",
    "# First split: Separate out the training set (80%) and a temporary set (20%)\n",
    "train_df, temp_df = train_test_split(t1, test_size=0.20, random_state=1234)\n",
    "\n",
    "# Second split: Divide the temporary set into validation (20% of temp_df) and test sets (80% of temp_df)\n",
    "val_df, test_df = train_test_split(temp_df, test_size=0.20, random_state=1234)\n",
    "\n",
    "\n",
    "print('training dataset:', len(train_df))\n",
    "print('validation:', len(val_df))\n",
    "print('test:', len(test_df))"
   ]
  },
  {
   "cell_type": "code",
   "execution_count": null,
   "id": "a9837cdf",
   "metadata": {},
   "outputs": [],
   "source": []
  },
  {
   "cell_type": "markdown",
   "id": "fa52b89f",
   "metadata": {},
   "source": [
    "## 2. Prepare model "
   ]
  },
  {
   "cell_type": "code",
   "execution_count": null,
   "id": "6a477edc",
   "metadata": {},
   "outputs": [],
   "source": [
    "from unsloth import FastLanguageModel\n",
    "import torch\n",
    "max_seq_length = 2048 # Choose any! We auto support RoPE Scaling internally!\n",
    "dtype = None # None for auto detection. Float16 for Tesla T4, V100, Bfloat16 for Ampere+\n",
    "load_in_4bit = True # Use 4bit quantization to reduce memory usage. Can be False.\n",
    "\n",
    "\n",
    "## we use the chat model \n",
    "xmodel_id = 'unsloth/tinyllama-bnb-4bit' \n",
    "#xmodel_id = 'TinyLlama/TinyLlama-1.1B-Chat-v1.0'\n",
    "\n",
    "model, tokenizer = FastLanguageModel.from_pretrained(\n",
    "    model_name = xmodel_id, \n",
    "    max_seq_length = max_seq_length,\n",
    "    dtype = dtype,\n",
    "    load_in_4bit = load_in_4bit\n",
    ")\n"
   ]
  },
  {
   "cell_type": "code",
   "execution_count": null,
   "id": "c9223813",
   "metadata": {},
   "outputs": [],
   "source": []
  },
  {
   "cell_type": "markdown",
   "id": "84639201",
   "metadata": {},
   "source": [
    "##### ADD SPECIAL TOKEN PAD TOKEN \n",
    "\n",
    "The pad_token is a small but essential part of fine-tuning language models. \n",
    "\n",
    "It helps \n",
    "\n",
    "- ensuring that that variable-length sequences can be efficiently processed in fixed-size batches \n",
    "\n",
    "- maintaining the integrity of the model's attention mechanism. As we do not want the model to attend to padding tokens, as they do not contain meaningful information. The pad_token helps in creating an attention mask that tells the model to ignore these tokens during the attention calculation.\n",
    "\n"
   ]
  },
  {
   "cell_type": "code",
   "execution_count": null,
   "id": "721704e4",
   "metadata": {},
   "outputs": [],
   "source": [
    "## verify if the tokenizer already has a pad token \n",
    "# this model as pad token \n",
    "tokenizer.special_tokens_map\n"
   ]
  },
  {
   "cell_type": "code",
   "execution_count": null,
   "id": "0dfc8b26",
   "metadata": {},
   "outputs": [],
   "source": [
    "### ADD SPECIAL PAD TOKEN to the tokenizer if there is not \n",
    "\n",
    "### IF there was not pad token \n",
    "\n",
    "PAD_TOKEN = '<pad>'\n",
    "#tokenizer.add_special_tokens({'pad_token': PAD_TOKEN})\n",
    "#tokenizer.padding_side = 'left'\n",
    "# see new map of tokenizer \n",
    "print(tokenizer.special_tokens_map)\n",
    "# resize the model \n",
    "#model.resize_token_embeddings(len(tokenizer), pad_to_multiple_of=8)\n"
   ]
  },
  {
   "cell_type": "markdown",
   "id": "f49b228d",
   "metadata": {},
   "source": [
    "#### count tokens "
   ]
  },
  {
   "cell_type": "markdown",
   "id": "a5ec27a2",
   "metadata": {},
   "source": [
    "## Chat Template \n",
    "\n",
    "the function **tokenizer.chat_template** makes it easier to work with \n",
    "the chat template if there is one \n",
    "\n",
    "use the following command to find out is the tokenizer has a chat template\n",
    "\n",
    "```\n",
    "print(tokenizer.chat_template)\n",
    "```\n",
    "\n",
    "if a model has chat_template, this should be used \n"
   ]
  },
  {
   "cell_type": "code",
   "execution_count": null,
   "id": "f327e9ec",
   "metadata": {},
   "outputs": [],
   "source": [
    "from transformers import AutoTokenizer\n",
    "xTokenizer_mistral = AutoTokenizer.from_pretrained('TinyLlama/TinyLlama-1.1B-Chat-v1.0')\n",
    "tokenizer.chat_template = xTokenizer_mistral.chat_template"
   ]
  },
  {
   "cell_type": "code",
   "execution_count": null,
   "id": "207b370d",
   "metadata": {},
   "outputs": [],
   "source": []
  },
  {
   "cell_type": "code",
   "execution_count": null,
   "id": "c079d90d",
   "metadata": {},
   "outputs": [],
   "source": [
    "## the model used here has a chattemplate \n",
    "print(tokenizer.chat_template)\n"
   ]
  },
  {
   "cell_type": "markdown",
   "id": "0c2e0e09",
   "metadata": {},
   "source": [
    "## Inference before fine-tuning "
   ]
  },
  {
   "cell_type": "code",
   "execution_count": null,
   "id": "1b5de7b3",
   "metadata": {},
   "outputs": [],
   "source": []
  },
  {
   "cell_type": "code",
   "execution_count": null,
   "id": "a40d21b2",
   "metadata": {},
   "outputs": [],
   "source": [
    "## randomly select one record \n",
    "xrecord = random.sample(train_df.to_dict(orient = 'records'), 1)[0]\n",
    "\n",
    "\n",
    "## prepare the prompt \n",
    "\n",
    "xPrompt_inference_user_template = '''In the following bibliographic reference, wrap each reference with <REFERENCE> at the beginning and </REFERENCE> at the end. Keep also the part of text which is not in references ###Text: {text}'''\n",
    "\n",
    "\n",
    "xPrompt_inference = xPrompt_inference_user_template.format(text = xrecord.get('ref_string'))\n",
    "\n",
    "# print the prompt \n",
    "print(textwrap.fill(xPrompt_inference, width=100))\n",
    "\n",
    "print('\\n### expected answers \\n subject:' + xrecord.get('ref_annotated') ) \n",
    "\n"
   ]
  },
  {
   "cell_type": "code",
   "execution_count": null,
   "id": "dbf83f5f",
   "metadata": {},
   "outputs": [],
   "source": [
    "## use template for inference \n",
    "\n",
    "messages = [{\"role\": \"user\", \"content\": xPrompt_inference }]\n",
    "\n",
    "#tokenize using chat_template \n",
    "tokenized_chat = tokenizer.apply_chat_template(messages, \n",
    "                                               tokenize=True, \n",
    "                                               add_generation_prompt=False, \n",
    "                                               return_tensors=\"pt\").to('cuda')\n",
    "\n",
    "xtokens_length = tokenized_chat.shape[1]\n",
    "\n",
    "#generate \n",
    "outputs = model.generate(tokenized_chat, max_new_tokens=xtokens_length * 1.5) \n",
    "print(tokenizer.decode(outputs[0]))\n",
    "\n"
   ]
  },
  {
   "cell_type": "code",
   "execution_count": null,
   "id": "a225b1ab",
   "metadata": {},
   "outputs": [],
   "source": []
  },
  {
   "cell_type": "code",
   "execution_count": null,
   "id": "cac54c43",
   "metadata": {},
   "outputs": [],
   "source": []
  },
  {
   "cell_type": "code",
   "execution_count": null,
   "id": "7113b8af",
   "metadata": {},
   "outputs": [],
   "source": []
  },
  {
   "cell_type": "markdown",
   "id": "69fa6244",
   "metadata": {},
   "source": [
    "# fine tuning steps "
   ]
  },
  {
   "cell_type": "markdown",
   "id": "34be0261",
   "metadata": {},
   "source": [
    "## Step 1:  prepare chat template "
   ]
  },
  {
   "cell_type": "code",
   "execution_count": null,
   "id": "3a372c45",
   "metadata": {},
   "outputs": [],
   "source": [
    "## create a function to format the records in desired format \n",
    "\n",
    "def format_record_training(xrecord):\n",
    "    '''\n",
    "    function to create training example \n",
    "    '''\n",
    "    \n",
    "    xPrompt_training_user = '''please parse following bibliographic reference into its main components using html-like tags ###reference: {text}'''\n",
    "    \n",
    "    xmessage_user = xPrompt_training_user.format(text =  xrecord.get('ref_string'))  \n",
    "    xmessage_assistant  = xrecord.get('ref_annotated')\n",
    "    \n",
    "    \n",
    "    messages = [{\"role\": \"user\", \"content\": xmessage_user },\n",
    "                {\"role\": \"assistant\", \"content\": xmessage_assistant  },\n",
    "                   ]\n",
    "\n",
    "    xprompt = tokenizer.apply_chat_template(messages, tokenize=False, add_generation_prompt = False)\n",
    "        \n",
    "        \n",
    "    return xprompt\n",
    "\n",
    "    \n",
    "def format_record_inference(xrecord):\n",
    "    '''\n",
    "    function to create inference example : \n",
    "    no response from the assistant \n",
    "    '''\n",
    "    \n",
    "    xPrompt_training_user = '''please parse following bibliographic reference into its main components using html-like tags ###reference: {text}'''\n",
    "    \n",
    "    xmessage_user = xPrompt_training_user.format(text =  xrecord.get('ref_string'))  \n",
    "    \n",
    "    \n",
    "    messages = [{\"role\": \"user\", \"content\": xmessage_user }]\n",
    "\n",
    "    xprompt = tokenizer.apply_chat_template(messages, tokenize=False, add_generation_prompt = False)\n",
    "        \n",
    "        \n",
    "    return xprompt    \n",
    "    \n",
    "    \n",
    "# get a random record \n",
    "xrecord = random.sample(train_df.to_dict(orient = 'records'), 1)[0]\n",
    "\n",
    "print ('## for training')\n",
    "print (format_record_training(xrecord))\n",
    "\n",
    "print ('## for inference')\n",
    "print (format_record_inference(xrecord))\n"
   ]
  },
  {
   "cell_type": "code",
   "execution_count": null,
   "id": "b35829ba",
   "metadata": {},
   "outputs": [],
   "source": [
    "## apply the function to the training and validation set \n",
    "train_df['text'] = [format_record_training(xrecord)  for xrecord in train_df.to_dict(orient = 'records')]\n",
    "val_df['text'] = [format_record_training(xrecord)  for xrecord in val_df.to_dict(orient = 'records')]\n",
    "\n",
    "#for test set use the inference_format \n",
    "test_df['text'] = [format_record_inference(xrecord)  for xrecord in test_df.to_dict(orient = 'records')]\n",
    "\n"
   ]
  },
  {
   "cell_type": "code",
   "execution_count": null,
   "id": "9316269f",
   "metadata": {},
   "outputs": [],
   "source": [
    "## create dataset "
   ]
  },
  {
   "cell_type": "code",
   "execution_count": null,
   "id": "fb6797c3",
   "metadata": {},
   "outputs": [],
   "source": [
    "dataset = {'train': Dataset.from_pandas(train_df, preserve_index = False),\n",
    "           'val':   Dataset.from_pandas(val_df,   preserve_index = False),\n",
    "           'test':  Dataset.from_pandas(test_df,  preserve_index = False),\n",
    "          }\n",
    "\n",
    "\n",
    "dataset "
   ]
  },
  {
   "cell_type": "code",
   "execution_count": null,
   "id": "cf376b82",
   "metadata": {},
   "outputs": [],
   "source": []
  },
  {
   "cell_type": "markdown",
   "id": "299fc1e1",
   "metadata": {},
   "source": [
    "### Step 2 : Lora Configuration"
   ]
  },
  {
   "cell_type": "code",
   "execution_count": null,
   "id": "e822f78d",
   "metadata": {},
   "outputs": [],
   "source": [
    "model = FastLanguageModel.get_peft_model(model,\n",
    "                                         r = 128, # Choose any number > 0 ! Suggested 8, 16, 32, 64, 128\n",
    "                                         target_modules = [\"q_proj\", \"k_proj\", \n",
    "                                                           \"v_proj\", \"o_proj\",\n",
    "                                                           \"gate_proj\", \"up_proj\", \n",
    "                                                           \"down_proj\"],\n",
    "                                         lora_alpha = 128,\n",
    "                                         lora_dropout = 0, # Currently only supports dropout = 0\n",
    "                                         bias = \"none\",    # Currently only supports bias = \"none\"\n",
    "                                         use_gradient_checkpointing = False, # With Unsloth, we can turn this off!\n",
    "                                         random_state = 68,\n",
    "                                         use_rslora = False,  # We support rank stabilized LoRA\n",
    "                                         loftq_config = None, # And LoftQ\n",
    "                                        )\n"
   ]
  },
  {
   "cell_type": "code",
   "execution_count": null,
   "id": "f2261cf8",
   "metadata": {},
   "outputs": [],
   "source": [
    "### check the model specifications \n",
    "model.config.pad_token_id = tokenizer.pad_token_id \n",
    "model.config"
   ]
  },
  {
   "cell_type": "markdown",
   "id": "4b5bb913",
   "metadata": {},
   "source": [
    "### Step 3 : training configuration "
   ]
  },
  {
   "cell_type": "code",
   "execution_count": null,
   "id": "73dcf4d2",
   "metadata": {},
   "outputs": [],
   "source": []
  },
  {
   "cell_type": "code",
   "execution_count": null,
   "id": "802991b2",
   "metadata": {},
   "outputs": [],
   "source": []
  },
  {
   "cell_type": "code",
   "execution_count": null,
   "id": "98f2d1e7",
   "metadata": {},
   "outputs": [],
   "source": [
    "# based on config\n",
    "\n",
    "from trl import SFTTrainer\n",
    "from transformers import TrainingArguments\n",
    "from transformers.utils import logging\n",
    "logging.set_verbosity_info()\n",
    "\n",
    "\n",
    "#xpath_checkpoints = \"outputs_tinyllama_class_1\"\n",
    "#xpath_checkpoints = \"outputs_tinyllama_class_full\"\n",
    "\n",
    "xpath_checkpoints = \"outputs_tinyllama_refparsing_1\"\n",
    "\n",
    "xtrain_args = TrainingArguments(output_dir=xpath_checkpoints,\n",
    "                                overwrite_output_dir=True,\n",
    "                                \n",
    "                                ### strategy \n",
    "                                max_steps=-1,\n",
    "                                num_train_epochs=3 ,  \n",
    "                                gradient_accumulation_steps=4,                                \n",
    "                                per_device_eval_batch_size=4, # 4\n",
    "                                per_device_train_batch_size=4, # 4\n",
    "                                gradient_checkpointing=True,\n",
    "                                #gradient_checkpointing_kwargs={\"use_reentrant\": False},\n",
    "                                \n",
    "                                evaluation_strategy=\"steps\",\n",
    "                                save_strategy=\"epoch\", ##every epoch \"no\",\n",
    "\n",
    "                                learning_rate=1e-4,\n",
    "                                lr_scheduler_type=\"cosine\",\n",
    "                                warmup_ratio=0.1,\n",
    "                                optim=\"adamw_torch\",\n",
    "                                \n",
    "                                \n",
    "                                #precision                                 \n",
    "                                fp16 = not torch.cuda.is_bf16_supported(),\n",
    "                                bf16 = torch.cuda.is_bf16_supported(),\n",
    "                                \n",
    "                                #loggging \n",
    "                                log_level=\"info\",\n",
    "                                logging_steps=10,\n",
    "                                logging_strategy=\"steps\",\n",
    "                                \n",
    "                                #report_to=\"tensorboard\",\n",
    "                                \n",
    "                                save_safetensors=True,\n",
    "                                \n",
    "                                seed=68)\n",
    "\n",
    "\n",
    "\n"
   ]
  },
  {
   "cell_type": "code",
   "execution_count": null,
   "id": "c0b31126",
   "metadata": {},
   "outputs": [],
   "source": [
    "from trl import SFTTrainer\n",
    "from transformers import TrainingArguments\n",
    "from transformers.utils import logging\n",
    "logging.set_verbosity_info()\n",
    "\n",
    "trainer = SFTTrainer(model = model,\n",
    "                     args = xtrain_args,\n",
    "                     train_dataset = dataset['train'],\n",
    "                     eval_dataset = dataset['val'],\n",
    "                     dataset_text_field='text',\n",
    "                     max_seq_length = max_seq_length \n",
    "                     )\n",
    "\n",
    "\n"
   ]
  },
  {
   "cell_type": "code",
   "execution_count": null,
   "id": "c8f892d2",
   "metadata": {},
   "outputs": [],
   "source": []
  },
  {
   "cell_type": "code",
   "execution_count": null,
   "id": "05937b2f",
   "metadata": {},
   "outputs": [],
   "source": [
    "trainer_stats = trainer.train()"
   ]
  },
  {
   "cell_type": "code",
   "execution_count": null,
   "id": "35f49bb3",
   "metadata": {},
   "outputs": [],
   "source": [
    "\n",
    "print('training time in minutes:', trainer_stats.metrics.get('train_runtime')/60)\n",
    "\n",
    "trainer_stats.metrics  ## this training took about 30 minutes "
   ]
  },
  {
   "cell_type": "code",
   "execution_count": null,
   "id": "89a26ee6",
   "metadata": {},
   "outputs": [],
   "source": [
    "## save model "
   ]
  },
  {
   "cell_type": "code",
   "execution_count": null,
   "id": "837172da",
   "metadata": {},
   "outputs": [],
   "source": [
    "model.save_pretrained(\"refparser_tinyllama_lora_model_1\") # Local saving\n"
   ]
  },
  {
   "cell_type": "markdown",
   "id": "fc2986f3",
   "metadata": {},
   "source": []
  },
  {
   "cell_type": "code",
   "execution_count": null,
   "id": "cc34d655",
   "metadata": {},
   "outputs": [],
   "source": [
    "\n",
    "\n"
   ]
  },
  {
   "cell_type": "code",
   "execution_count": null,
   "id": "15350ab1",
   "metadata": {},
   "outputs": [],
   "source": []
  },
  {
   "cell_type": "code",
   "execution_count": null,
   "id": "389e7750",
   "metadata": {},
   "outputs": [],
   "source": []
  },
  {
   "cell_type": "markdown",
   "id": "2780d556",
   "metadata": {},
   "source": [
    "## inference on the newly trained model "
   ]
  },
  {
   "cell_type": "code",
   "execution_count": null,
   "id": "07fe4fae",
   "metadata": {},
   "outputs": [],
   "source": [
    "#xtest_samples = dataset['test'][0:10]\n",
    "xtest_samples = dataset['val'][0:10]\n",
    "xprompts = xtest_samples.get('text')\n",
    "\n"
   ]
  },
  {
   "cell_type": "code",
   "execution_count": null,
   "id": "9d226451",
   "metadata": {},
   "outputs": [],
   "source": [
    "# alpaca_prompt = Copied from above\n",
    "FastLanguageModel.for_inference(model) # Enable native 2x faster inference\n",
    "\n",
    "\n",
    "for xnr, xprompt in enumerate(xprompts):\n",
    "\n",
    "\n",
    "    inputs = tokenizer(xprompt, return_tensors = 'pt', padding = True).to('cuda')\n",
    "\n",
    "    outputs = model.generate(**inputs, max_new_tokens = 400, use_cache = True)\n",
    "    xresponse = tokenizer.batch_decode(outputs)\n",
    "    \n",
    "    print(xresponse[0].split('</s>')[1])\n",
    "    print('-------------')"
   ]
  },
  {
   "cell_type": "code",
   "execution_count": null,
   "id": "00d13ad4",
   "metadata": {},
   "outputs": [],
   "source": []
  },
  {
   "cell_type": "markdown",
   "id": "afb265c1",
   "metadata": {},
   "source": [
    "###  merge and save full model "
   ]
  },
  {
   "cell_type": "code",
   "execution_count": null,
   "id": "88f09682",
   "metadata": {},
   "outputs": [],
   "source": [
    "# we merge now to '16bit' \n",
    "model.save_pretrained_merged(save_directory = 'refparser_tinyllama_1',\n",
    "                             tokenizer= tokenizer,\n",
    "                             save_method = 'merged_16bit',\n",
    "                             push_to_hub = False)"
   ]
  },
  {
   "cell_type": "code",
   "execution_count": null,
   "id": "94e4df83",
   "metadata": {},
   "outputs": [],
   "source": [
    "print('OK')"
   ]
  },
  {
   "cell_type": "code",
   "execution_count": null,
   "id": "94d7627b",
   "metadata": {},
   "outputs": [],
   "source": []
  },
  {
   "cell_type": "markdown",
   "id": "b15de57d",
   "metadata": {},
   "source": [
    "## test with the saved model \n",
    "\n",
    "(after restaring the kernel) "
   ]
  },
  {
   "cell_type": "code",
   "execution_count": null,
   "id": "57b6788a",
   "metadata": {},
   "outputs": [],
   "source": []
  },
  {
   "cell_type": "code",
   "execution_count": 1,
   "id": "05d18ae7",
   "metadata": {},
   "outputs": [],
   "source": [
    "from transformers import AutoTokenizer, AutoModelForCausalLM\n",
    "\n",
    "\n",
    "xmodel_merged = 'refparser_tinyllama_1'\n",
    "\n",
    "\n",
    "xtokenizer = AutoTokenizer.from_pretrained(xmodel_merged)\n",
    "\n",
    "xmodel = AutoModelForCausalLM.from_pretrained(xmodel_merged, device_map=\"auto\")\n",
    "\n"
   ]
  },
  {
   "cell_type": "code",
   "execution_count": 17,
   "id": "789ad7c6",
   "metadata": {},
   "outputs": [
    {
     "name": "stdout",
     "output_type": "stream",
     "text": [
      "test: 40\n"
     ]
    },
    {
     "data": {
      "text/plain": [
       "{'record_nr': 159,\n",
       " 'doi': '10.1017/S0021911800033787',\n",
       " 'ref_type': 'article-journal',\n",
       " 'ref_style': 'american-journal-of-orthodontics-and-dentofacial-orthopedics',\n",
       " 'ref_string': 'Ananda P. A Checklist of Indonesian Serials in the Cornell University Library (1945–1970). Compiled by Yvonne Thung and John M. Echols. Ithaca: Cornell University Southeast Asia Program Data Paper No. 89, 1973. vi, 215 pp. $7.00Indonesian Monographs: A Catalogue of Monographs Publications 1945–1968. A Collection of more than 7000 titles mainly concerning the Social Sciences from Cornell University Libraries on Microfiche. Zug, Switzerland: Inter Documentation Company, 1974. (Bibliotheca Asiatica, 10). iv, 154 pp. Sfr 40 (cloth), Sfr 16 (microfiche).. J of Asian Stud 1975;3501:176–7. Available at: http://dx.doi.org/10.1017/s0021911800033787.',\n",
       " 'ref_annotated': '<author>Ananda P</author>. <title>A Checklist of Indonesian Serials in the Cornell University Library (1945–1970). Compiled by Yvonne Thung and John M. Echols. Ithaca: Cornell University Southeast Asia Program Data Paper No. 89, 1973. vi, 215 pp. $7.00Indonesian Monographs: A Catalogue of Monographs Publications 1945–1968. A Collection of more than 7000 titles mainly concerning the Social Sciences from Cornell University Libraries on Microfiche. Zug, Switzerland: Inter Documentation Company, 1974. (Bibliotheca Asiatica, 10). iv, 154 pp. Sfr 40 (cloth), Sfr 16 (microfiche).</title>. <container-title>J of Asian Stud</container-title> <year>1975</year>;<volume>35</volume><issue>01</issue>:<page>176–7</page>. Available at: <URL>http://dx.doi.org/10.1017/s0021911800033787</URL>.'}"
      ]
     },
     "execution_count": 17,
     "metadata": {},
     "output_type": "execute_result"
    }
   ],
   "source": [
    "print('test:', len(test_df))\n",
    "\n",
    "xrecords = test_df.to_dict(orient = 'records')\n",
    "\n",
    "xrec = xrecords[0]\n",
    "\n",
    "xrec "
   ]
  },
  {
   "cell_type": "code",
   "execution_count": 11,
   "id": "c2356668",
   "metadata": {},
   "outputs": [],
   "source": [
    "def format_record_inference(xrecord):\n",
    "    '''\n",
    "    function to create inference example : \n",
    "    no response from the assistant \n",
    "    '''\n",
    "    \n",
    "    xPrompt_training_user = '''please parse following bibliographic reference into its main components using html-like tags ###reference: {text}'''\n",
    "    \n",
    "    xmessage_user = xPrompt_training_user.format(text =  xrecord.get('ref_string'))  \n",
    "    \n",
    "    \n",
    "    messages = [{\"role\": \"user\", \"content\": xmessage_user }]\n",
    "\n",
    "    xprompt = xtokenizer.apply_chat_template(messages, tokenize=False, add_generation_prompt = False)\n",
    "        \n",
    "        \n",
    "    return xprompt    "
   ]
  },
  {
   "cell_type": "code",
   "execution_count": 16,
   "id": "c8a01516",
   "metadata": {},
   "outputs": [
    {
     "data": {
      "text/plain": [
       "'<|user|>\\nplease parse following bibliographic reference into its main components using html-like tags ###reference: Ananda P. A Checklist of Indonesian Serials in the Cornell University Library (1945–1970). Compiled by Yvonne Thung and John M. Echols. Ithaca: Cornell University Southeast Asia Program Data Paper No. 89, 1973. vi, 215 pp. $7.00Indonesian Monographs: A Catalogue of Monographs Publications 1945–1968. A Collection of more than 7000 titles mainly concerning the Social Sciences from Cornell University Libraries on Microfiche. Zug, Switzerland: Inter Documentation Company, 1974. (Bibliotheca Asiatica, 10). iv, 154 pp. Sfr 40 (cloth), Sfr 16 (microfiche).. J of Asian Stud 1975;3501:176–7. Available at: http://dx.doi.org/10.1017/s0021911800033787.</s>\\n'"
      ]
     },
     "execution_count": 16,
     "metadata": {},
     "output_type": "execute_result"
    }
   ],
   "source": [
    "xprompt = format_record_inference(xrec)\n",
    "xprompt "
   ]
  },
  {
   "cell_type": "code",
   "execution_count": null,
   "id": "3063deab",
   "metadata": {},
   "outputs": [],
   "source": [
    "## test with other data "
   ]
  },
  {
   "cell_type": "code",
   "execution_count": 18,
   "id": "869f79bd",
   "metadata": {},
   "outputs": [
    {
     "data": {
      "text/plain": [
       "' Ananda P. A Checklist of Indonesian Serials in the Cornell University Library (1945–1970). Compiled by Yvonne Thung and John M. Echols. Ithaca: Cornell University Southeast Asia Program Data Paper No. 89, 1973. vi, 215 pp. $7.00Indonesian Monographs: A Catalogue of Monographs Publications 1945–1968. A Collection of more than 7000 titles mainly concerning the Social Sciences from Cornell University Libraries on Microfiche. Zug, Switzerland: Inter Documentation Company, 1974. (Bibliotheca Asiatica, 10). iv, 154 pp. Sfr 40 (cloth), Sfr 16 (microfiche).. J of Asian Stud 1975;3501:176–7. Available at: http://dx.doi.org/10.1017/s0021911800033787.</s>\\n'"
      ]
     },
     "execution_count": 18,
     "metadata": {},
     "output_type": "execute_result"
    }
   ],
   "source": []
  },
  {
   "cell_type": "code",
   "execution_count": 15,
   "id": "92a6e2fe",
   "metadata": {},
   "outputs": [
    {
     "name": "stdout",
     "output_type": "stream",
     "text": [
      " \n",
      "<|assistant|>\n",
      "<author>Rawal, V. & Bansal, V.</author> <year>2021</year>. <title>The Land Question in Contemporary Rural India</title>\n"
     ]
    }
   ],
   "source": [
    "inputs = xtokenizer(xprompt, return_tensors = 'pt', padding = True).to('cuda')\n",
    "outputs = xmodel.generate(**inputs, max_new_tokens = 400, use_cache = False)\n",
    "xresponse = xtokenizer.batch_decode(outputs)\n",
    "    \n",
    "#xresponse\n",
    "print(xresponse[0].split('</s>')[1])"
   ]
  },
  {
   "cell_type": "code",
   "execution_count": null,
   "id": "07b5cea3",
   "metadata": {},
   "outputs": [],
   "source": []
  },
  {
   "cell_type": "code",
   "execution_count": null,
   "id": "d0e291f6",
   "metadata": {},
   "outputs": [],
   "source": []
  },
  {
   "cell_type": "code",
   "execution_count": 21,
   "id": "cbf07938",
   "metadata": {},
   "outputs": [
    {
     "name": "stdout",
     "output_type": "stream",
     "text": [
      "REF_STRING\n",
      " Ananda P. A Checklist of Indonesian Serials in the Cornell University Library (1945–1970). Compiled by Yvonne Thung and John M. Echols. Ithaca: Cornell University Southeast Asia Program Data Paper No. 89, 1973. vi, 215 pp. $7.00Indonesian Monographs: A Catalogue of Monographs Publications 1945–1968. A Collection of more than 7000 titles mainly concerning the Social Sciences from Cornell University Libraries on Microfiche. Zug, Switzerland: Inter Documentation Company, 1974. (Bibliotheca Asiatica, 10). iv, 154 pp. Sfr 40 (cloth), Sfr 16 (microfiche).. J of Asian Stud 1975;3501:176–7. Available at: http://dx.doi.org/10.1017/s0021911800033787.</s>\n",
      "\n",
      "TAGGED\n",
      " \n",
      "<|assistant|>\n",
      "Ananda P. <title>A Checklist of Indonesian Serials in the Cornell University Library (1945–1970)</title>. <container-title>Compiled by Yvonne Thung and John M. Echols</container-title>. <venue>Ithaca: Cornell University Southeast Asia Program Data Paper No. 89</venue>, <year>1973</year>. <page>vi, 215 pp</page>. <price>$7.00</price><container-title>Indonesian Monographs: A Catalogue of Monographs Publications 1945–1968</container-title>. <publisher>A collection of more than 7000 titles mainly concerning the Social Sciences from Cornell University Libraries on Microfiche</publisher>. <city>Zug</city>, <state>Switzerland</state>: <publisher>Inter Documentation Company</publisher>, <year>1974</year>. (<title>Bibliotheca Asiatica, 10</title>) <volume>iv, 154 pp</volume> <price>Sfr 40 (cloth), Sfr 16 (microfiche)</price>.\n",
      "--------\n",
      "\n",
      "\n",
      "REF_STRING\n",
      " Gaudy J., Willoughby K., Lamm C., Karavanis E., Logue DN. Possible natural MCF-like disease in a domestic lamb in Scotland: TABLE 1:. Veterinary Record 2012;17122:563.1-563. Doi: 10.1136/vr.101137.</s>\n",
      "\n",
      "TAGGED\n",
      " \n",
      "<|assistant|>\n",
      "<author>Gaudy J., Willoughby K., Lamm C., Karavanis E., Logue DN.</author> <title>Possible natural MCF-like disease in a domestic lamb in Scotland: TABLE 1:</title>. <container-title>Veterinary Record</container-title> <year>2012</year>;<volume>171</volume><issue>22</issue>:<page>563.1-563</page>. Doi: <DOI>10.1136/vr.101137</DOI>.\n",
      "--------\n",
      "\n",
      "\n",
      "REF_STRING\n",
      " Smith, W.. 1954. William Paley’s Theological Utilitarianism in America. The William and Mary Quarterly. 113: 402.</s>\n",
      "\n",
      "TAGGED\n",
      " \n",
      "<|assistant|>\n",
      "<author>Smith, W.</author>. <year>1954</year>. <title>William Paley’s Theological Utilitarianism in America</title>. <container-title>The William and Mary Quarterly</container-title>. <volume>11</volume><issue>3</issue>: <page>402</page>.\n",
      "--------\n",
      "\n",
      "\n",
      "REF_STRING\n",
      " Jones IG. 1961. The Election of 1868 in Merthyr Tydfil: A Study in the Politics of an Industrial Borough in the Mid-Nineteenth Century. The Journal of Modern History 33: 270–286.</s>\n",
      "\n",
      "TAGGED\n",
      " \n",
      "<|assistant|>\n",
      "<author>Jones IG</author>. <year>1961</year>. <title>The Election of 1868 in Merthyr Tydfil: A Study in the Politics of an Industrial Borough in the Mid-Nineteenth Century</title>. <container-title>The Journal of Modern History</container-title> <volume>33</volume>: <page>270–286</page>.\n",
      "--------\n",
      "\n",
      "\n",
      "REF_STRING\n",
      " Malaspina EF. History of International Law. Introduction to Swiss Law, Carl Grossmann; 2018, p. 85–105.</s>\n",
      "\n",
      "TAGGED\n",
      " \n",
      "<|assistant|>\n",
      "<author>Malaspina EF</author>. <title>History of International Law. Introduction to Swiss Law, Carl Grossmann</title>; <year>2018</year>, p. <page>85–105</page>.\n",
      "--------\n",
      "\n",
      "\n",
      "REF_STRING\n",
      " Iges, J.. 2001. Núñez, Adolfo. Oxford Music Online. Oxford University Press. https://doi.org/10.1093/gmo/9781561592630.article.48180</s>\n",
      "\n",
      "TAGGED\n",
      " \n",
      "<|assistant|>\n",
      "<author>Iges, J.</author>. <year>2001</year>. <title>Núñez, Adolfo</title>. <container-title>Oxford Music Online</container-title>. <publisher>Oxford University Press</publisher>. https://doi.org/<DOI>10.1093/gmo/9781561592630.article.48180</DOI>\n",
      "--------\n",
      "\n",
      "\n",
      "REF_STRING\n",
      " Regber, S.; Kelly, K. B.. Missed Opportunities—Adolescents with a Chronic Condition (Insulin-Dependent Diabetes Mellitus) Describe Their Cigarette-Smoking Trajectories and Consider Health Risks. Acta Paediatrica 2007, 96 12, 1770–1776.</s>\n",
      "\n",
      "TAGGED\n",
      " \n",
      "<|assistant|>\n",
      "<author>Regber, S.; Kelly, K. B.</author>. <title>Missed Opportunities—Adolescents with a Chronic Condition (Insulin-Dependent Diabetes Mellitus) Describe Their Cigarette-Smoking Trajectories and Consider Health Risks</title>. <container-title>Acta Paediatrica</container-title> <year>2007</year>, <volume>96</volume> <issue>12</issue>, <page>1770–1776</page>.\n",
      "--------\n",
      "\n",
      "\n",
      "REF_STRING\n",
      " Daly, G., Mooney, G., Poole, L., Davis, H. 2005. Housing Stock Transfer in Birmingham and Glasgow: The Contrasting Experiences of Two UK Cities. European Journal of Housing Policy, 53:327–341.</s>\n",
      "\n",
      "TAGGED\n",
      " \n",
      "<|assistant|>\n",
      "<author>Daly, G., Mooney, G., Poole, L., Davis, H.</author> <year>2005</year>. <title>Housing Stock Transfer in Birmingham and Glasgow: The Contrasting Experiences of Two UK Cities</title>. <container-title>European Journal of Housing Policy</container-title>, <volume>5</volume><issue>3</issue>:<page>327–341</page>.\n",
      "--------\n",
      "\n",
      "\n",
      "REF_STRING\n",
      " Femenías S, J.A.. 2017. LOS DAÑOS AMBIENTALES COMO ÚNICA CATEGORÍA JURÍDICA CUYA REPARACIÓN REGULA LA LEY N° 19.300.: COMENTARIO A LA SENTENCIA PRONUNCIADA POR LA EXCELENTÍSIMA CORTE SUPREMA DE JUSTICIA, CON FECHA 28 DE JUNIO DE 2016 EN EL RECURSO DE CASACIÓN EN EL FONDO CAUSA ROL Nº 37.179 - 2015. Revista chilena de derecho 44: 295–304.</s>\n",
      "\n",
      "TAGGED\n",
      " \n",
      "<|assistant|>\n",
      "<author>Femenías S, J.A.</author>. <year>2017</year>. <title>LOS DAÑOS AMBIENTALES COMO ÚNICA CATEGORÍA JURÍDICA CUYA REPARACIÓN REGULA LA LEY N° 19.300.: COMENTARIO A LA SENTENCIA PRONUNCIADA POR LA EXCELENTÍSIMA CORTE SUPREMA DE JUSTICIA, CON FECHA 28 DE JUNIO DE 2016 EN EL RECURSO DE CASACIÓN EN EL FONDO CAUSA ROL Nº 37.179 - 2015</title>. <container-title>Revista chilena de derecho</container-title> <volume>44</volume>: <page>295–304</page>.\n",
      "--------\n",
      "\n",
      "\n",
      "REF_STRING\n",
      " Sex, the measure of all things: a life of Alfred C. Kinsey. Choice Reviews Online [Internet]. American Library Association; 2000; 37: 37-6562-37–6562. Available from: http://dx.doi.org/10.5860/choice.37-6562</s>\n",
      "\n",
      "TAGGED\n",
      " \n",
      "<|assistant|>\n",
      "<title>Sex, the measure of all things: a life of Alfred C. Kinsey</title>. <container-title>Choice Reviews Online</container-title> [Internet]. <publisher>American Library Association</publisher>; <year>2000</year>; <volume>37</volume>: <page>37-6562-37–6562</page>. Available from: <URL>http://dx.doi.org/10.5860/choice.37-6562</URL>\n",
      "--------\n",
      "\n",
      "\n",
      "REF_STRING\n",
      " Smith, S.R.. 2012. Obesity Proving Complicated and Personal. Genetic Engineering & Biotechnology News 32: 46–47.</s>\n",
      "\n",
      "TAGGED\n",
      " \n",
      "<|assistant|>\n",
      "<author>Smith, S.R.</author>. <year>2012</year>. <title>Obesity Proving Complicated and Personal</title>. <container-title>Genetic Engineering & Biotechnology News</container-title> <volume>32</volume>: <page>46–47</page>.\n",
      "--------\n",
      "\n",
      "\n",
      "REF_STRING\n",
      " Demmel, J.. Accurate and Efficient Expression Evaluation and Linear Algebra, or Why It Can Be Easier to Compute Accurate Eigenvalues of a Vandermonde Matrix than the Accurate Sum of 3 Numbers. In Proceedings of the 2011 International Workshop on Symbolic-Numeric Computation - SNC ’11; ACM Press, 2011.</s>\n",
      "\n",
      "TAGGED\n",
      " \n",
      "<|assistant|>\n",
      "<author>Demmel, J.</author>. <title>Accurate and Efficient Expression Evaluation and Linear Algebra, or Why It Can Be Easier to Compute Accurate Eigenvalues of a Vandermonde Matrix than the Accurate Sum of 3 Numbers</title>. In <container-title>Proceedings of the 2011 International Workshop on Symbolic-Numeric Computation - SNC ’11</container-title>; <publisher>ACM Press</publisher>, <year>2011</year>.\n",
      "--------\n",
      "\n",
      "\n",
      "REF_STRING\n",
      " Langewiesche, D.2007 Europa Zwischen Restauration Und Revolution 1815-1849. Oldenbourg Grundriss Der Geschichte. R. Oldenbourg Verlag. doi:10.1524/9783486701135</s>\n",
      "\n",
      "TAGGED\n",
      " \n",
      "<|assistant|>\n",
      "<author>Langewiesche, D.</author><year>2007</year> <title>Europa Zwischen Restauration Und Revolution 1815-1849</title>. <container-title>Oldenbourg Grundriss Der Geschichte</container-title>. <publisher>R. Oldenbourg Verlag</publisher>. doi:<DOI>10.1524/9783486701135</DOI>\n",
      "--------\n",
      "\n",
      "\n",
      "REF_STRING\n",
      " South African Journal of Linguistics / Suid-Afrikaanse Tydskrif vir Taalkunde. South African Journal of Linguistics 1998;164:150–5. Doi: 10.1080/10118063.1998.9724154.</s>\n",
      "\n",
      "TAGGED\n",
      " \n",
      "<|assistant|>\n",
      "<title>South African Journal of Linguistics / Suid-Afrikaanse Tydskrif vir Taalkunde</title>. <container-title>South African Journal of Linguistics</container-title> <year>1998</year>;<volume>16</volume><issue>4</issue>:<page>150–5</page>. Doi: <DOI>10.1080/10118063.1998.9724154</DOI>.\n",
      "--------\n",
      "\n",
      "\n"
     ]
    },
    {
     "name": "stdout",
     "output_type": "stream",
     "text": [
      "REF_STRING\n",
      " Bozionellou, V., 2004, “Trastuzumab Administration Can Effectively Target Chemotherapy-Resistant Cytokeratin-19 Messenger RNA-Positive Tumor Cells in the Peripheral Blood and Bone Marrow of Patients With Breast Cancer,” Clinical Cancer Research, 1024, 8185–8194.</s>\n",
      "\n",
      "TAGGED\n",
      " \n",
      "<|assistant|>\n",
      "<author>Bozionellou, V.</author>, <year>2004</year>, <title>“Trastuzumab Administration Can Effectively Target Chemotherapy-Resistant Cytokeratin-19 Messenger RNA-Positive Tumor Cells in the Peripheral Blood and Bone Marrow of Patients With Breast Cancer,”</title> <container-title>Clinical Cancer Research</container-title>, <volume>10</volume><issue>24</issue>, <page>8185–8194</page>.\n",
      "--------\n",
      "\n",
      "\n",
      "REF_STRING\n",
      " HANNAWAY, P.. 1991. January. “375 Additional observations on asthma deaths (ADS) in Massachusetts 1974–1988”. Journal of Allergy and Clinical Immunology 87 1 January: 233. doi:10.1016/0091-6749(91)91658-g. http://dx.doi.org/10.1016/0091-6749(91)91658-g.</s>\n",
      "\n",
      "TAGGED\n",
      " \n",
      "<|assistant|>\n",
      "<author>HANNAWAY, P.</author>. <year>1991</year>. <month>January</month>. <title>“375 Additional observations on asthma deaths (ADS) in Massachusetts 1974–1988”</title>. <container-title>Journal of Allergy and Clinical Immunology</container-title> <volume>87</volume> <issue>1</issue> <month>January</month>: <page>233</page>. doi:<DOI>10.1016/0091-6749(91)91658-g</DOI>. <URL>http://dx.doi.org/10.1016/0091-6749(91)91658-g</URL>.\n",
      "--------\n",
      "\n",
      "\n",
      "REF_STRING\n",
      " 1963. Sedimentation and chemical quality of water in Salt Creek basin, Nebraska. US Geological Survey.</s>\n",
      "\n",
      "TAGGED\n",
      " \n",
      "<|assistant|>\n",
      "<year>1963</year>. <title>Sedimentation and chemical quality of water in Salt Creek basin, Nebraska</title>. <publisher>US Geological Survey</publisher>.\n",
      "--------\n",
      "\n",
      "\n",
      "REF_STRING\n",
      " Pin-Chieh Huang, Marina Marjanovic, Darold R. Spillman, Boris M. Odintsov, and Stephen A. Boppart. 2016. Magnetic hyperthermia dosimetry by biomechanical properties revealed in magnetomotive optical coherence elastography (MM-OCE)(Conference Presentation). Colloidal Nanoparticles for Biomedical Applications XI, SPIE.</s>\n",
      "\n",
      "TAGGED\n",
      " \n",
      "<|assistant|>\n",
      "<author>Pin-Chieh Huang, Marina Marjanovic, Darold R. Spillman, Boris M. Odintsov, and Stephen A. Boppart</author>. <year>2016</year>. <title>Magnetic hyperthermia dosimetry by biomechanical properties revealed in magnetomotive optical coherence elastography (MM-OCE)</title>(<container-title>Conference Presentation</container-title>). <event>Colloidal Nanoparticles for Biomedical Applications XI</event>, <publisher>SPIE</publisher>.\n",
      "--------\n",
      "\n",
      "\n",
      "REF_STRING\n",
      " Die Mühen der Ebenen. Unerfüllte Hoffnungen. Peter Lang.</s>\n",
      "\n",
      "TAGGED\n",
      " \n",
      "<|assistant|>\n",
      "<title>Die Mühen der Ebenen</title>. <container-title>Unerfüllte Hoffnungen</container-title>. <publisher>Peter Lang</publisher>.\n",
      "--------\n",
      "\n",
      "\n",
      "REF_STRING\n",
      " King, Simon L., Wilby, Mark R. and Boyd, Ian W. 1996 “Evolution of the morphology of annealed, bulk mgo (100) substrate surfaces.” Materials Science and Engineering: B, 371–3, pp. 162–167.</s>\n",
      "\n",
      "TAGGED\n",
      " \n",
      "<|assistant|>\n",
      "<author>King, Simon L., Wilby, Mark R. and Boyd, Ian W.</author> <year>1996</year> <title>“Evolution of the morphology of annealed, bulk mgo (100) substrate surfaces.”</title> <container-title>Materials Science and Engineering: B</container-title>, <volume>37</volume><issue>1–3</issue>, pp. <page>162–167</page>.\n",
      "--------\n",
      "\n",
      "\n",
      "REF_STRING\n",
      " B. Benecke, In Internationale Rechnungslegung und Management Approach; Deutscher Universitätsverlag, 2000; pp. 1–6.</s>\n",
      "\n",
      "TAGGED\n",
      " \n",
      "<|assistant|>\n",
      "<author>B. Benecke</author>, <container-title>In Internationale Rechnungslegung und Management Approach</container-title>; <publisher>Deutscher Universitätsverlag</publisher>, <year>2000</year>; <page>pp. 1–6</page>.\n",
      "--------\n",
      "\n",
      "\n",
      "REF_STRING\n",
      " HOPKINS C. Zoo education: into the 1990s. International Zoo Yearbook 1992;311:99–103. Doi: 10.1111/j.1748-1090.1991.tb02371.x.</s>\n",
      "\n",
      "TAGGED\n",
      " \n",
      "<|assistant|>\n",
      "<author>HOPKINS C</author>. <title>Zoo education: into the 1990s</title>. <container-title>International Zoo Yearbook</container-title> <year>1992</year>;<volume>31</volume><issue>11</issue>:<page>99–103</page>. Doi: <DOI>10.1111/j.1748-1090.1991.tb02371.x</DOI>.\n",
      "--------\n",
      "\n",
      "\n",
      "REF_STRING\n",
      " Tanentzap, A. J., Bazely, D. R., and Lafortezza, R., 2009, Diversity–invasibility relationships across multiple scales in disturbed forest understoreys: Biological Invasions, v. 12, p. 2105–2116.</s>\n",
      "\n",
      "TAGGED\n",
      " \n",
      "<|assistant|>\n",
      "<author>Tanentzap, A. J., Bazely, D. R., and Lafortezza, R.</author>, <year>2009</year>, <title>Diversity–invasibility relationships across multiple scales in disturbed forest understoreys</title>: <container-title>Biological Invasions</container-title>, v. <volume>12</volume>, p. <page>2105–2116</page>.\n",
      "--------\n",
      "\n",
      "\n",
      "REF_STRING\n",
      " Pettet G, Nannapaneni S, Stadnick B, Dubey A, Biswas G. Incident analysis and prediction using clustering and Bayesian network. In: 2017 IEEE SmartWorld, Ubiquitous Intelligence & Computing, Advanced & Trusted Computed, Scalable Computing & Communications, Cloud & Big Data Computing, Internet of People and Smart City Innovation (SmartWorld/SCALCOM/UIC/ATC/CBDCom/IOP/SCI). IEEE, 2017 doi:10.1109/uic-atc.2017.8397587</s>\n",
      "\n",
      "TAGGED\n",
      " \n",
      "<|assistant|>\n",
      "<author>Pettet G, Nannapaneni S, Stadnick B, Dubey A, Biswas G</author>. <title>Incident analysis and prediction using clustering and Bayesian network</title>. In: <container-title>2017 IEEE SmartWorld, Ubiquitous Intelligence & Computing, Advanced & Trusted Computed, Scalable Computing & Communications, Cloud & Big Data Computing, Internet of People and Smart City Innovation (SmartWorld/SCALCOM/UIC/ATC/CBDCom/IOP/SCI)</container-title>. <publisher>IEEE</publisher>, <year>2017</year> doi:<DOI>10.1109/uic-atc.2017.8397587</DOI>\n",
      "--------\n",
      "\n",
      "\n",
      "REF_STRING\n",
      " Dangur, J. & S.M. Jaybhaye. 2016. Framework for secure data sharing in dynamic group using public cloud, In: 2016 International Conference on Computing, Analytics and Security Trends (CAST). IEEE.</s>\n",
      "\n",
      "TAGGED\n",
      " \n",
      "<|assistant|>\n",
      "<author>Dangur, J. & S.M. Jaybhaye</author>. <year>2016</year>. <title>Framework for secure data sharing in dynamic group using public cloud</title>, In: <container-title>2016 International Conference on Computing, Analytics and Security Trends (CAST)</container-title>. <publisher>IEEE</publisher>.\n",
      "--------\n",
      "\n",
      "\n",
      "REF_STRING\n",
      " de Carvalho EA. Stress concentration factors for an internally pressurized circular vessel containing a radial U-notch. International Journal of Pressure Vessels and Piping 2005;82:517–521.</s>\n",
      "\n",
      "TAGGED\n",
      " \n",
      "<|assistant|>\n",
      "<author>de Carvalho EA</author>. <title>Stress concentration factors for an internally pressurized circular vessel containing a radial U-notch</title>. <container-title>International Journal of Pressure Vessels and Piping</container-title> <year>2005</year>;<volume>82</volume>:<page>517–521</page>.\n",
      "--------\n",
      "\n",
      "\n",
      "REF_STRING\n",
      " Mei Liu; Huanshui Zhang; Guangren Duan; Bugong Xu. 2006. Tracking Control with Multiple Input Delays for Continuous-Time Systems. 2006 6th World Congress on Intelligent Control and Automation.</s>\n",
      "\n",
      "TAGGED\n",
      " \n",
      "<|assistant|>\n",
      "<author>Mei Liu; Huanshui Zhang; Guangren Duan; Bugong Xu</author>. <year>2006</year>. <title>Tracking Control with Multiple Input Delays for Continuous-Time Systems</title>. <container-title>2006 6th World Congress on Intelligent Control and Automation</container-title>.\n",
      "--------\n",
      "\n",
      "\n",
      "REF_STRING\n",
      " In The Long Peace of East Asia; Routledge, 2016; pp. 135–169.</s>\n",
      "\n",
      "TAGGED\n",
      " \n",
      "<|assistant|>\n",
      "<title>In The Long Peace of East Asia</title>; <publisher>Routledge</publisher>, <year>2016</year>; pp. <page>135–169</page>.\n",
      "--------\n",
      "\n",
      "\n",
      "REF_STRING\n",
      " M. McKelvey, Ramifications for Western firms navigating through innovation spaces in Asia, Innovation Spaces in Asia. Edward Elgar Publishing.; DOI:10.4337/9781783475681.00024</s>\n",
      "\n",
      "TAGGED\n",
      " \n",
      "<|assistant|>\n",
      "<author>M. McKelvey</author>, <title>Ramifications for Western firms navigating through innovation spaces in Asia</title>, <container-title>Innovation Spaces in Asia</container-title>. <publisher>Edward Elgar Publishing</publisher>.; DOI:<DOI>10.4337/9781783475681.00024</DOI>\n",
      "--------\n",
      "\n",
      "\n",
      "REF_STRING\n",
      " Klein J, Kopelman IJ. Preface. Journal of Biotechnology [Internet] 1996 ; 51: 199. Available from: http://dx.doi.org/10.1016/s0168-1656(96)90043-7</s>\n",
      "\n",
      "TAGGED\n",
      " \n",
      "<|assistant|>\n",
      "<author>Klein J, Kopelman IJ</author>. <title>Preface</title>. <container-title>Journal of Biotechnology</container-title> [Internet] <year>1996</year> ; <volume>51</volume>: <page>199</page>. Available from: <URL>http://dx.doi.org/10.1016/s0168-1656(96)90043-7</URL>\n",
      "--------\n",
      "\n",
      "\n"
     ]
    },
    {
     "name": "stdout",
     "output_type": "stream",
     "text": [
      "REF_STRING\n",
      " ... 2012. CUHSO 22-1 Completo. Cultura - Hombre - Sociedad CUHSO. 221.</s>\n",
      "\n",
      "TAGGED\n",
      " \n",
      "<|assistant|>\n",
      "<title>...</title> <year>2012</year>. <container-title>CUHSO 22-1 Completo</container-title>. <genre>Cultura - Hombre - Sociedad</genre> <publisher>CUHSO</publisher>. <volume>22</volume><issue>1</issue>.\n",
      "--------\n",
      "\n",
      "\n",
      "REF_STRING\n",
      " Zehnder, Adalbert. 2016. “Die einen können’s, die anderen nicht”. kma - Das Gesundheitswirtschaftsmagazin 1601: 8–8. http://dx.doi.org/10.1055/s-0036-1575852.</s>\n",
      "\n",
      "TAGGED\n",
      " \n",
      "<|assistant|>\n",
      "<author>Zehnder, Adalbert</author>. <year>2016</year>. <title>“Die einen können’s, die anderen nicht”</title>. <container-title>kma - Das Gesundheitswirtschaftsmagazin</container-title> <volume>16</volume><issue>01</issue>: <page>8–8</page>. <URL>http://dx.doi.org/10.1055/s-0036-1575852</URL>.\n",
      "--------\n",
      "\n",
      "\n",
      "REF_STRING\n",
      " The 20 Non-Negotiable Characteristics of Higher Performing School Systems: Aligning District Practices to Support High-Quality Instruction. 2011. PsycEXTRA Dataset. American Psychological Association (APA). https://doi.org/10.1037/e536032012-001.</s>\n",
      "\n",
      "TAGGED\n",
      " \n",
      "<|assistant|>\n",
      "<title>The 20 Non-Negotiable Characteristics of Higher Performing School Systems: Aligning District Practices to Support High-Quality Instruction</title>. <year>2011</year>. <container-title>PsycEXTRA Dataset</container-title>. <publisher>American Psychological Association (APA)</publisher>. https://doi.org/<DOI>10.1037/e536032012-001</DOI>.\n",
      "--------\n",
      "\n",
      "\n",
      "REF_STRING\n",
      " El Hachimi Y., Gmih Y., Makroum EM., Farchi A. A compact dual-band antenna including symmetrical slots for 2.45/5.8 GHz handheld RFID reader applications. 2018 4th International Conference on Optimization and Applications (ICOA), IEEE; 2018.</s>\n",
      "\n",
      "TAGGED\n",
      " \n",
      "<|assistant|>\n",
      "<author>El Hachimi Y., Gmih Y., Makroum EM., Farchi A.</author> <title>A compact dual-band antenna including symmetrical slots for 2.45/5.8 GHz handheld RFID reader applications</title>. <container-title>2018 4th International Conference on Optimization and Applications (ICOA)</container-title>, <publisher>IEEE</publisher>; <year>2018</year>.\n",
      "--------\n",
      "\n",
      "\n",
      "REF_STRING\n",
      " Feng, J., Barbano, P. E., Mishra, B. 2004. Time-frequency feature detection for time-course microarray data. In: Proceedings of the 2004 ACM symposium on Applied computing  - SAC ’04, ACM Press. ISBN: 1581138121</s>\n",
      "\n",
      "TAGGED\n",
      " \n",
      "<|assistant|>\n",
      "<author>Feng, J., Barbano, P. E., Mishra, B.</author> <year>2004</year>. <title>Time-frequency feature detection for time-course microarray data</title>. In: <container-title>Proceedings of the 2004 ACM symposium on Applied computing  - SAC ’04</container-title>, <publisher>ACM Press</publisher>. ISBN: <ISBN>1581138121</ISBN>\n",
      "--------\n",
      "\n",
      "\n",
      "REF_STRING\n",
      " Massey, A.; Ferguson, J.. 1937. Hospital policy in relation to preventive medicine. Public Health 51: 235–243.</s>\n",
      "\n",
      "TAGGED\n",
      " \n",
      "<|assistant|>\n",
      "<author>Massey, A.; Ferguson, J.</author>. <year>1937</year>. <title>Hospital policy in relation to preventive medicine</title>. <container-title>Public Health</container-title> <volume>5</volume><issue>1</issue>: <page>235–243</page>.\n",
      "--------\n",
      "\n",
      "\n",
      "REF_STRING\n",
      " Heymann, J., Reuter, M., Buchwitz, M., Schneising, O., Bovensmann, H., Burrows, J.P., Massart, S., Kaiser, J.W. & Crisp, D., 2017, “CO2 emission of Indonesian fires in 2015 estimated from satellite-derived atmospheric CO2 concentrations,” Geophysical Research Letters, 443, 1537–1544.</s>\n",
      "\n",
      "TAGGED\n",
      " \n",
      "<|assistant|>\n",
      "<author>Heymann, J., Reuter, M., Buchwitz, M., Schneising, O., Bovensmann, H., Burrows, J.P., Massart, S., Kaiser, J.W. & Crisp, D.</author>, <year>2017</year>, <title>“CO2 emission of Indonesian fires in 2015 estimated from satellite-derived atmospheric CO2 concentrations,”</title> <container-title>Geophysical Research Letters</container-title>, <volume>44</volume><issue>3</issue>, <page>1537–1544</page>.\n",
      "--------\n",
      "\n",
      "\n",
      "REF_STRING\n",
      " Wise, E.H.. 2005. Social Responsibility and the Mental Health Professions. Journal of Aggression, Maltreatment & Trauma 11: 89–99.</s>\n",
      "\n",
      "TAGGED\n",
      " \n",
      "<|assistant|>\n",
      "<author>Wise, E.H.</author>. <year>2005</year>. <title>Social Responsibility and the Mental Health Professions</title>. <container-title>Journal of Aggression, Maltreatment & Trauma</container-title> <volume>11</volume>: <page>89–99</page>.\n",
      "--------\n",
      "\n",
      "\n",
      "REF_STRING\n",
      " Ruspini, Paolo 2008 “9. The post-enlargement migration space,” in Bonifazi, C., Okólski, M., Schoorl, J., and Simon, P. (eds.), International Migration in Europe, Amsterdam University Press, pp. 179–196.</s>\n",
      "\n",
      "TAGGED\n",
      " \n",
      "<|assistant|>\n",
      "<author>Ruspini, Paolo</author> <year>2008</year> <title>“9. The post-enlargement migration space,”</title> in <editor><given>Bonifazi</given>, <given>C.</given>, <given>Okólski</given>, <given>M.</given>, <given>Schoorl</given>, <given>J.</given>, and <given>Simon</given>, <family>P.</family> (eds.)</editor>, <container-title>International Migration in Europe</container-title>, <publisher>Amsterdam University Press</publisher>, pp. <page>179–196</page>.\n",
      "--------\n",
      "\n",
      "\n",
      "REF_STRING\n",
      " Anon 1971 “Editorial Board.” Reports on Mathematical Physics, 21, p. i.</s>\n",
      "\n",
      "TAGGED\n",
      " \n",
      "<|assistant|>\n",
      "Anon <year>1971</year> <title>“Editorial Board.”</title> <container-title>Reports on Mathematical Physics</container-title>, <volume>21</volume>, p. <page>i</page>.\n",
      "--------\n",
      "\n",
      "\n"
     ]
    }
   ],
   "source": [
    "xprompts = [format_record_inference(xrecord) for xrecord in xrecords]\n",
    "\n",
    "for xprompt in xprompts:\n",
    "    \n",
    "    inputs = xtokenizer(xprompt, return_tensors = 'pt', padding = True).to('cuda')\n",
    "    outputs = xmodel.generate(**inputs, max_new_tokens = 400, use_cache = False)\n",
    "    xresponse = xtokenizer.batch_decode(outputs)\n",
    "    \n",
    "    #xresponse\n",
    "    \n",
    "    print('REF_STRING')\n",
    "    print(xprompt.split('###reference:')[1])\n",
    "    print('TAGGED')\n",
    "    print(xresponse[0].split('</s>')[1])\n",
    "    print('--------')\n",
    "    print('\\n')"
   ]
  },
  {
   "cell_type": "code",
   "execution_count": null,
   "id": "21757003",
   "metadata": {},
   "outputs": [],
   "source": []
  },
  {
   "cell_type": "code",
   "execution_count": null,
   "id": "9b4b87ab",
   "metadata": {},
   "outputs": [],
   "source": []
  },
  {
   "cell_type": "code",
   "execution_count": null,
   "id": "344f0138",
   "metadata": {},
   "outputs": [],
   "source": []
  },
  {
   "cell_type": "code",
   "execution_count": null,
   "id": "a32b0e9a",
   "metadata": {},
   "outputs": [],
   "source": []
  },
  {
   "cell_type": "code",
   "execution_count": null,
   "id": "0d6d3c3d",
   "metadata": {},
   "outputs": [],
   "source": []
  },
  {
   "cell_type": "code",
   "execution_count": null,
   "id": "50b6ac6b",
   "metadata": {},
   "outputs": [],
   "source": []
  },
  {
   "cell_type": "code",
   "execution_count": null,
   "id": "d5879eb7",
   "metadata": {},
   "outputs": [],
   "source": []
  },
  {
   "cell_type": "code",
   "execution_count": null,
   "id": "68152b7a",
   "metadata": {},
   "outputs": [],
   "source": []
  },
  {
   "cell_type": "code",
   "execution_count": null,
   "id": "8eb05954",
   "metadata": {},
   "outputs": [],
   "source": []
  },
  {
   "cell_type": "code",
   "execution_count": null,
   "id": "33a0973a",
   "metadata": {},
   "outputs": [],
   "source": []
  },
  {
   "cell_type": "code",
   "execution_count": null,
   "id": "f8dbb75a",
   "metadata": {},
   "outputs": [],
   "source": []
  },
  {
   "cell_type": "code",
   "execution_count": null,
   "id": "9a18fb18",
   "metadata": {},
   "outputs": [],
   "source": []
  }
 ],
 "metadata": {
  "kernelspec": {
   "display_name": "Python (xLLM_unsloth)",
   "language": "python",
   "name": "xllm_unsloth"
  },
  "language_info": {
   "codemirror_mode": {
    "name": "ipython",
    "version": 3
   },
   "file_extension": ".py",
   "mimetype": "text/x-python",
   "name": "python",
   "nbconvert_exporter": "python",
   "pygments_lexer": "ipython3",
   "version": "3.10.13"
  }
 },
 "nbformat": 4,
 "nbformat_minor": 5
}
